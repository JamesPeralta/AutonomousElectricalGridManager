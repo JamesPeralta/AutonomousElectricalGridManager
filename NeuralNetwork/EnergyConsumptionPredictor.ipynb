{
  "nbformat": 4,
  "nbformat_minor": 0,
  "metadata": {
    "colab": {
      "name": "EnergyConsumptionPredictor.ipynb",
      "version": "0.3.2",
      "provenance": [],
      "collapsed_sections": [
        "trgIiOtjuVFo"
      ],
      "toc_visible": true
    },
    "kernelspec": {
      "name": "python3",
      "display_name": "Python 3"
    },
    "accelerator": "TPU"
  },
  "cells": [
    {
      "metadata": {
        "id": "trgIiOtjuVFo",
        "colab_type": "text"
      },
      "cell_type": "markdown",
      "source": [
        "### Imports"
      ]
    },
    {
      "metadata": {
        "id": "5NcrQhtatSFb",
        "colab_type": "code",
        "colab": {}
      },
      "cell_type": "code",
      "source": [
        "import os, shutil\n",
        "from google.colab import drive\n",
        "from keras import layers\n",
        "from keras import models\n",
        "import numpy as np\n",
        "import matplotlib.pyplot as plt\n",
        "import pandas as pd\n",
        "from keras.utils import np_utils\n",
        "from sklearn.utils import shuffle"
      ],
      "execution_count": 0,
      "outputs": []
    },
    {
      "metadata": {
        "id": "JhB9VPNPuavt",
        "colab_type": "text"
      },
      "cell_type": "markdown",
      "source": [
        "### Set-up Big Query"
      ]
    },
    {
      "metadata": {
        "id": "o1viW7PViECZ",
        "colab_type": "code",
        "outputId": "4e55f57c-c1fe-4630-ebc0-60162dc8297e",
        "colab": {
          "base_uri": "https://localhost:8080/",
          "height": 34
        }
      },
      "cell_type": "code",
      "source": [
        "from google.cloud import bigquery\n",
        "from google.colab import auth\n",
        "auth.authenticate_user()\n",
        "print('Authenticated')\n",
        "project_id = 'calgaryhacks'\n",
        "\n",
        "client = bigquery.Client(project=project_id)"
      ],
      "execution_count": 87,
      "outputs": [
        {
          "output_type": "stream",
          "text": [
            "Authenticated\n"
          ],
          "name": "stdout"
        }
      ]
    },
    {
      "metadata": {
        "id": "Np0qX8YQM_nc",
        "colab_type": "code",
        "colab": {}
      },
      "cell_type": "code",
      "source": [
        "def query_Creator():\n",
        "  theQuery = 'SELECT * FROM `calgaryhacks.2016_usage.2016_usage` WHERE date like \"%-12-%\" ORDER BY date'\n",
        "  return theQuery"
      ],
      "execution_count": 0,
      "outputs": []
    },
    {
      "metadata": {
        "id": "ohv8b3jnl6OU",
        "colab_type": "code",
        "outputId": "5838ae7d-2cf5-4568-85eb-90b9b119af21",
        "colab": {
          "base_uri": "https://localhost:8080/",
          "height": 1105
        }
      },
      "cell_type": "code",
      "source": [
        "# date = \"1\"\n",
        "query = query_Creator()\n",
        "day_data = shuffle(client.query(query).to_dataframe())\n",
        "\n",
        "print(day_data)"
      ],
      "execution_count": 413,
      "outputs": [
        {
          "output_type": "stream",
          "text": [
            "                 date hour  temp     usage\n",
            "81   2016-12-04 09:00   09  -4.3  0.296475\n",
            "263  2016-12-11 23:00   23 -16.6  0.346197\n",
            "392  2016-12-17 08:00   08 -22.8  0.338103\n",
            "262  2016-12-11 22:00   22 -16.1  0.426225\n",
            "307  2016-12-13 19:00   19 -15.9  0.478791\n",
            "516  2016-12-22 12:00   12   5.9  0.288423\n",
            "222  2016-12-10 06:00   06 -23.7  0.292653\n",
            "117  2016-12-05 21:00   21 -18.8  0.416196\n",
            "565  2016-12-24 13:00   13 -12.6  0.375654\n",
            "488  2016-12-21 08:00   08   1.1  0.307047\n",
            "32   2016-12-02 08:00   08  -8.1  0.257430\n",
            "183  2016-12-08 15:00   15 -20.1  0.320025\n",
            "312  2016-12-14 00:00   00 -19.1  0.280779\n",
            "102  2016-12-05 06:00   06 -16.7  0.282915\n",
            "366  2016-12-16 06:00   06 -24.1  0.301638\n",
            "374  2016-12-16 14:00   14 -17.8  0.338250\n",
            "28   2016-12-02 04:00   04  -7.4  0.193677\n",
            "561  2016-12-24 09:00   09 -11.1  0.354309\n",
            "317  2016-12-14 05:00   05 -19.7  0.273405\n",
            "352  2016-12-15 16:00   16 -17.1  0.394176\n",
            "541  2016-12-23 13:00   13  -5.9  0.339741\n",
            "453  2016-12-19 21:00   21  -1.6  0.387717\n",
            "123  2016-12-06 03:00   03 -19.7  0.245517\n",
            "266  2016-12-12 02:00   02 -18.1  0.274536\n",
            "501  2016-12-21 21:00   21   2.3  0.399660\n",
            "504  2016-12-22 00:00   00   2.8  0.242907\n",
            "364  2016-12-16 04:00   04 -20.7  0.273345\n",
            "691  2016-12-29 19:00   19  -4.8  0.406782\n",
            "61   2016-12-03 13:00   13   4.6  0.294993\n",
            "671  2016-12-28 23:00   23  -3.2  0.299961\n",
            "..                ...  ...   ...       ...\n",
            "51   2016-12-03 03:00   03   1.8  0.188778\n",
            "418  2016-12-18 10:00   10  -2.2  0.388050\n",
            "141  2016-12-06 21:00   21 -19.5  0.438657\n",
            "568  2016-12-24 16:00   16 -13.7  0.448908\n",
            "365  2016-12-16 05:00   05 -22.3  0.263913\n",
            "214  2016-12-09 22:00   22 -22.7  0.412641\n",
            "735  2016-12-31 15:00   15  -3.8  0.361794\n",
            "525  2016-12-22 21:00   21   1.7  0.409683\n",
            "461  2016-12-20 05:00   05  -0.9  0.239475\n",
            "695  2016-12-29 23:00   23  -3.3  0.289935\n",
            "240  2016-12-11 00:00   00 -23.5  0.325503\n",
            "346  2016-12-15 10:00   10 -18.7  0.337143\n",
            "553  2016-12-24 01:00   01  -8.0  0.263526\n",
            "559  2016-12-24 07:00   07 -10.4  0.271662\n",
            "669  2016-12-28 21:00   21  -3.8  0.370119\n",
            "259  2016-12-11 19:00   19 -17.2  0.525129\n",
            "30   2016-12-02 06:00   06  -7.5  0.225057\n",
            "180  2016-12-08 12:00   12 -19.5  0.340377\n",
            "476  2016-12-20 20:00   20  -0.8  0.401199\n",
            "246  2016-12-11 06:00   06 -23.2  0.285042\n",
            "323  2016-12-14 11:00   11 -14.7  0.309054\n",
            "8    2016-12-01 08:00   08  -3.5  0.268902\n",
            "187  2016-12-08 19:00   19 -22.5  0.475659\n",
            "582  2016-12-25 06:00   06 -18.5  0.270654\n",
            "16   2016-12-01 16:00   16  -0.8  0.325143\n",
            "653  2016-12-28 05:00   05  -2.2  0.222156\n",
            "587  2016-12-25 11:00   11 -15.1  0.436512\n",
            "143  2016-12-06 23:00   23 -21.3  0.338553\n",
            "514  2016-12-22 10:00   10   2.5  0.298275\n",
            "206  2016-12-09 14:00   14 -20.9  0.325497\n",
            "\n",
            "[744 rows x 4 columns]\n"
          ],
          "name": "stdout"
        }
      ]
    },
    {
      "metadata": {
        "id": "7cJarnE412zn",
        "colab_type": "text"
      },
      "cell_type": "markdown",
      "source": [
        "### Slice the data intro train features and labels"
      ]
    },
    {
      "metadata": {
        "id": "jdiDido212kN",
        "colab_type": "code",
        "outputId": "00da0774-4633-4094-ef19-5def29dec8c8",
        "colab": {
          "base_uri": "https://localhost:8080/",
          "height": 1105
        }
      },
      "cell_type": "code",
      "source": [
        "train_data = day_data.iloc[:,1:3].astype('float32')\n",
        "train_labels = day_data.iloc[:, 3].astype('float32')\n",
        "print(train_data)"
      ],
      "execution_count": 414,
      "outputs": [
        {
          "output_type": "stream",
          "text": [
            "     hour       temp\n",
            "81    9.0  -4.300000\n",
            "263  23.0 -16.600000\n",
            "392   8.0 -22.799999\n",
            "262  22.0 -16.100000\n",
            "307  19.0 -15.900000\n",
            "516  12.0   5.900000\n",
            "222   6.0 -23.700001\n",
            "117  21.0 -18.799999\n",
            "565  13.0 -12.600000\n",
            "488   8.0   1.100000\n",
            "32    8.0  -8.100000\n",
            "183  15.0 -20.100000\n",
            "312   0.0 -19.100000\n",
            "102   6.0 -16.700001\n",
            "366   6.0 -24.100000\n",
            "374  14.0 -17.799999\n",
            "28    4.0  -7.400000\n",
            "561   9.0 -11.100000\n",
            "317   5.0 -19.700001\n",
            "352  16.0 -17.100000\n",
            "541  13.0  -5.900000\n",
            "453  21.0  -1.600000\n",
            "123   3.0 -19.700001\n",
            "266   2.0 -18.100000\n",
            "501  21.0   2.300000\n",
            "504   0.0   2.800000\n",
            "364   4.0 -20.700001\n",
            "691  19.0  -4.800000\n",
            "61   13.0   4.600000\n",
            "671  23.0  -3.200000\n",
            "..    ...        ...\n",
            "51    3.0   1.800000\n",
            "418  10.0  -2.200000\n",
            "141  21.0 -19.500000\n",
            "568  16.0 -13.700000\n",
            "365   5.0 -22.299999\n",
            "214  22.0 -22.700001\n",
            "735  15.0  -3.800000\n",
            "525  21.0   1.700000\n",
            "461   5.0  -0.900000\n",
            "695  23.0  -3.300000\n",
            "240   0.0 -23.500000\n",
            "346  10.0 -18.700001\n",
            "553   1.0  -8.000000\n",
            "559   7.0 -10.400000\n",
            "669  21.0  -3.800000\n",
            "259  19.0 -17.200001\n",
            "30    6.0  -7.500000\n",
            "180  12.0 -19.500000\n",
            "476  20.0  -0.800000\n",
            "246   6.0 -23.200001\n",
            "323  11.0 -14.700000\n",
            "8     8.0  -3.500000\n",
            "187  19.0 -22.500000\n",
            "582   6.0 -18.500000\n",
            "16   16.0  -0.800000\n",
            "653   5.0  -2.200000\n",
            "587  11.0 -15.100000\n",
            "143  23.0 -21.299999\n",
            "514  10.0   2.500000\n",
            "206  14.0 -20.900000\n",
            "\n",
            "[744 rows x 2 columns]\n"
          ],
          "name": "stdout"
        }
      ]
    },
    {
      "metadata": {
        "id": "y-t6ffes0YRH",
        "colab_type": "text"
      },
      "cell_type": "markdown",
      "source": [
        "### Specifying the model"
      ]
    },
    {
      "metadata": {
        "id": "ePYtYtJV0X7r",
        "colab_type": "code",
        "colab": {}
      },
      "cell_type": "code",
      "source": [
        "# Define the network\n",
        "def build_model():\n",
        "    model = models.Sequential()\n",
        "    model.add(layers.Dense(200, activation='relu', input_shape=(2,)))\n",
        "    model.add(layers.Dense(200, activation='relu'))\n",
        "    model.add(layers.Dense(200, activation='relu'))\n",
        "    model.add(layers.Dense(1))\n",
        "    model.compile(optimizer='rmsprop', loss='mse')\n",
        "    return model"
      ],
      "execution_count": 0,
      "outputs": []
    },
    {
      "metadata": {
        "id": "cS823Pk90-gB",
        "colab_type": "code",
        "outputId": "da4e2445-0b54-4a9b-8a54-284821e2db58",
        "colab": {
          "base_uri": "https://localhost:8080/",
          "height": 272
        }
      },
      "cell_type": "code",
      "source": [
        "model = build_model()\n",
        "model.summary()"
      ],
      "execution_count": 416,
      "outputs": [
        {
          "output_type": "stream",
          "text": [
            "_________________________________________________________________\n",
            "Layer (type)                 Output Shape              Param #   \n",
            "=================================================================\n",
            "dense_136 (Dense)            (None, 200)               600       \n",
            "_________________________________________________________________\n",
            "dense_137 (Dense)            (None, 200)               40200     \n",
            "_________________________________________________________________\n",
            "dense_138 (Dense)            (None, 200)               40200     \n",
            "_________________________________________________________________\n",
            "dense_139 (Dense)            (None, 1)                 201       \n",
            "=================================================================\n",
            "Total params: 81,201\n",
            "Trainable params: 81,201\n",
            "Non-trainable params: 0\n",
            "_________________________________________________________________\n"
          ],
          "name": "stdout"
        }
      ]
    },
    {
      "metadata": {
        "id": "I8Q61IJr1s-t",
        "colab_type": "text"
      },
      "cell_type": "markdown",
      "source": [
        "### Train the model"
      ]
    },
    {
      "metadata": {
        "id": "zoRU4d3TAUHd",
        "colab_type": "code",
        "colab": {}
      },
      "cell_type": "code",
      "source": [
        "for i in range(1,200):\n",
        "  model_name = 'predictor_64Nodes_Januarys_i'+str(i)+'.h5'\n",
        "  print(model_name)\n",
        "  model.fit(train_data, train_labels, epochs=100, verbose=2, batch_size=32)\n",
        "  the_result = model.evaluate(train_data, train_labels)\n",
        "  print(the_result)"
      ],
      "execution_count": 0,
      "outputs": []
    },
    {
      "metadata": {
        "id": "tS5oU814AYBx",
        "colab_type": "code",
        "colab": {
          "base_uri": "https://localhost:8080/",
          "height": 51
        },
        "outputId": "d721c655-99bc-487d-c26b-e9b9d3e9d4b9"
      },
      "cell_type": "code",
      "source": [
        "model.fit(train_data, train_labels, epochs=50, verbose=0, batch_size=32)\n",
        "the_result = model.evaluate(train_data, train_labels)\n",
        "print(the_result)\n",
        "model.save('predictor_December.h5')"
      ],
      "execution_count": 427,
      "outputs": [
        {
          "output_type": "stream",
          "text": [
            "744/744 [==============================] - 0s 50us/step\n",
            "0.0007556160706626152\n"
          ],
          "name": "stdout"
        }
      ]
    },
    {
      "metadata": {
        "id": "cFAIL9KVTnCK",
        "colab_type": "text"
      },
      "cell_type": "markdown",
      "source": [
        "### Visualize the data"
      ]
    },
    {
      "metadata": {
        "id": "DkXu0yyOTmfN",
        "colab_type": "code",
        "outputId": "18ba7227-00bb-4c64-c1cd-e149bef572d0",
        "colab": {
          "base_uri": "https://localhost:8080/",
          "height": 361
        }
      },
      "cell_type": "code",
      "source": [
        "validation_query = 'SELECT * FROM `calgaryhacks.2016_usage.2016_usage` WHERE date like \"%-12-15%\" ORDER BY date'\n",
        "validation_data = client.query(validation_query).to_dataframe()\n",
        "actual = np.array(validation_data.iloc[:,3])\n",
        "prediction = np.array(validation_data.iloc[:,1:3])\n",
        "\n",
        "predictions = model.predict(prediction)\n",
        "\n",
        "plt.plot(range(1, 25), actual, 'b', label='Actual')\n",
        "plt.plot(range(1, 25), predictions, 'r', label='Predicted')\n",
        "plt.xlabel('hour')\n",
        "plt.ylabel('KW/hour')\n",
        "plt.legend()\n",
        "plt.show()"
      ],
      "execution_count": 441,
      "outputs": [
        {
          "output_type": "display_data",
          "data": {
            "image/png": "[encoded data removed]",
            "text/plain": [
              "<Figure size 576x396 with 1 Axes>"
            ]
          },
          "metadata": {
            "tags": []
          }
        }
      ]
    }
  ]
}