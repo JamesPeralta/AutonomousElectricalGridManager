{
  "nbformat": 4,
  "nbformat_minor": 0,
  "metadata": {
    "colab": {
      "name": "EnergyConsumptionPredictor.ipynb",
      "version": "0.3.2",
      "provenance": [],
      "collapsed_sections": [],
      "toc_visible": true
    },
    "kernelspec": {
      "name": "python3",
      "display_name": "Python 3"
    },
    "accelerator": "TPU"
  },
  "cells": [
    {
      "metadata": {
        "id": "trgIiOtjuVFo",
        "colab_type": "text"
      },
      "cell_type": "markdown",
      "source": [
        "### Imports"
      ]
    },
    {
      "metadata": {
        "id": "5NcrQhtatSFb",
        "colab_type": "code",
        "outputId": "5c2cf964-3016-4fb8-b136-61f8ac7bf3a2",
        "colab": {
          "base_uri": "https://localhost:8080/",
          "height": 34
        }
      },
      "cell_type": "code",
      "source": [
        "import os, shutil\n",
        "from google.colab import drive\n",
        "from keras import layers\n",
        "from keras import models\n",
        "import numpy as np\n",
        "import matplotlib.pyplot as plt\n",
        "import pandas as pd\n",
        "from keras.utils import np_utils"
      ],
      "execution_count": 0,
      "outputs": [
        {
          "output_type": "stream",
          "text": [
            "Using TensorFlow backend.\n"
          ],
          "name": "stderr"
        }
      ]
    },
    {
      "metadata": {
        "id": "CxHt8oN3td8m",
        "colab_type": "code",
        "outputId": "894403d6-f6d3-4f3d-c630-575e50d99aef",
        "colab": {
          "base_uri": "https://localhost:8080/",
          "height": 139
        }
      },
      "cell_type": "code",
      "source": [
        "drive.mount('/content/drive')\n",
        "one_month_temp = '/content/drive/My Drive/Datasets/EnergyDataset'\n",
        "\n",
        "os.chdir(one_month_temp)\n",
        "print(os.listdir())"
      ],
      "execution_count": 0,
      "outputs": [
        {
          "output_type": "stream",
          "text": [
            "Go to this URL in a browser: https://accounts.google.com/o/oauth2/auth?client_id=947318989803-6bn6qk8qdgf4n4g3pfee6491hc0brc4i.apps.googleusercontent.com&redirect_uri=urn%3Aietf%3Awg%3Aoauth%3A2.0%3Aoob&scope=email%20https%3A%2F%2Fwww.googleapis.com%2Fauth%2Fdocs.test%20https%3A%2F%2Fwww.googleapis.com%2Fauth%2Fdrive%20https%3A%2F%2Fwww.googleapis.com%2Fauth%2Fdrive.photos.readonly%20https%3A%2F%2Fwww.googleapis.com%2Fauth%2Fpeopleapi.readonly&response_type=code\n",
            "\n",
            "Enter your authorization code:\n",
            "··········\n",
            "Mounted at /content/drive\n",
            "['one-month.csv', 'test.csv', 'one-month-Dup.csv']\n"
          ],
          "name": "stdout"
        }
      ]
    },
    {
      "metadata": {
        "id": "JhB9VPNPuavt",
        "colab_type": "text"
      },
      "cell_type": "markdown",
      "source": [
        "### Set-up Big Query"
      ]
    },
    {
      "metadata": {
        "id": "o1viW7PViECZ",
        "colab_type": "code",
        "colab": {
          "base_uri": "https://localhost:8080/",
          "height": 34
        },
        "outputId": "2a8f6622-c379-4f8f-d3cc-0c3fd626e636"
      },
      "cell_type": "code",
      "source": [
        "from google.cloud import bigquery\n",
        "from google.colab import auth\n",
        "auth.authenticate_user()\n",
        "print('Authenticated')\n",
        "project_id = 'calgaryhacks'\n",
        "\n",
        "client = bigquery.Client(project=project_id)"
      ],
      "execution_count": 50,
      "outputs": [
        {
          "output_type": "stream",
          "text": [
            "Authenticated\n"
          ],
          "name": "stdout"
        }
      ]
    },
    {
      "metadata": {
        "id": "ohv8b3jnl6OU",
        "colab_type": "code",
        "colab": {
          "base_uri": "https://localhost:8080/",
          "height": 68
        },
        "outputId": "3b4a034c-73e0-4356-a0a7-ceb6c6fc44b6"
      },
      "cell_type": "code",
      "source": [
        "march_nine = client.query('SELECT * FROM `calgaryhacks.2016_usage.2016_usage` where date like \"%2016-03-09%\" order by hour').to_dataframe()\n",
        "asNump = np.array(march_nine.iloc[:,3])\n",
        "print(asNump)"
      ],
      "execution_count": 101,
      "outputs": [
        {
          "output_type": "stream",
          "text": [
            "[0.208602 0.203547 0.196686 0.203064 0.188643 0.210957 0.237912 0.262077\n",
            " 0.264732 0.259878 0.230988 0.215439 0.210447 0.212445 0.227544 0.221658\n",
            " 0.256824 0.297474 0.34596  0.351807 0.344088 0.33651  0.286392 0.260997]\n"
          ],
          "name": "stdout"
        }
      ]
    },
    {
      "metadata": {
        "id": "dUaS8p8ImyaQ",
        "colab_type": "code",
        "colab": {
          "base_uri": "https://localhost:8080/",
          "height": 365
        },
        "outputId": "062be80d-1527-43b4-f226-2137492b6fbd"
      },
      "cell_type": "code",
      "source": [
        "plt.plot(range(1, 25), asNump)\n",
        "plt.xlabel('hour')\n",
        "plt.ylabel('KW')\n",
        "plt.show()"
      ],
      "execution_count": 102,
      "outputs": [
        {
          "output_type": "display_data",
          "data": {
            "image/png": "[encoded data removed]",
            "text/plain": [
              "<Figure size 576x396 with 1 Axes>"
            ]
          },
          "metadata": {
            "tags": []
          }
        }
      ]
    },
    {
      "metadata": {
        "id": "7cJarnE412zn",
        "colab_type": "text"
      },
      "cell_type": "markdown",
      "source": [
        "### Slice the data intro train features and labels"
      ]
    },
    {
      "metadata": {
        "id": "jdiDido212kN",
        "colab_type": "code",
        "outputId": "885bad25-4428-46a2-ea19-6877f3098dba",
        "colab": {
          "base_uri": "https://localhost:8080/",
          "height": 442
        }
      },
      "cell_type": "code",
      "source": [
        "train_data = march_nine.iloc[:,1:3].astype('float32')\n",
        "train_labels = march_nine.iloc[:, 3].astype('float32')\n",
        "print(train_labels)"
      ],
      "execution_count": 124,
      "outputs": [
        {
          "output_type": "stream",
          "text": [
            "0     0.208602\n",
            "1     0.203547\n",
            "2     0.196686\n",
            "3     0.203064\n",
            "4     0.188643\n",
            "5     0.210957\n",
            "6     0.237912\n",
            "7     0.262077\n",
            "8     0.264732\n",
            "9     0.259878\n",
            "10    0.230988\n",
            "11    0.215439\n",
            "12    0.210447\n",
            "13    0.212445\n",
            "14    0.227544\n",
            "15    0.221658\n",
            "16    0.256824\n",
            "17    0.297474\n",
            "18    0.345960\n",
            "19    0.351807\n",
            "20    0.344088\n",
            "21    0.336510\n",
            "22    0.286392\n",
            "23    0.260997\n",
            "Name: usage, dtype: float32\n"
          ],
          "name": "stdout"
        }
      ]
    },
    {
      "metadata": {
        "id": "y-t6ffes0YRH",
        "colab_type": "text"
      },
      "cell_type": "markdown",
      "source": [
        "### Specifying the model"
      ]
    },
    {
      "metadata": {
        "id": "ePYtYtJV0X7r",
        "colab_type": "code",
        "colab": {}
      },
      "cell_type": "code",
      "source": [
        "# Define the network\n",
        "def build_model():\n",
        "    model = models.Sequential()\n",
        "    model.add(layers.Dense(1000, activation='relu', input_shape=(2,)))\n",
        "    model.add(layers.Dense(1000, activation='relu'))\n",
        "    model.add(layers.Dense(1000, activation='relu'))\n",
        "    model.add(layers.Dense(1))\n",
        "    model.compile(optimizer=\"adam\", loss='mse')\n",
        "    return model"
      ],
      "execution_count": 0,
      "outputs": []
    },
    {
      "metadata": {
        "id": "cS823Pk90-gB",
        "colab_type": "code",
        "outputId": "cd2d4cf1-8d30-47f4-caad-81f5efe1dd87",
        "colab": {
          "base_uri": "https://localhost:8080/",
          "height": 272
        }
      },
      "cell_type": "code",
      "source": [
        "model = build_model()\n",
        "model.summary()"
      ],
      "execution_count": 152,
      "outputs": [
        {
          "output_type": "stream",
          "text": [
            "_________________________________________________________________\n",
            "Layer (type)                 Output Shape              Param #   \n",
            "=================================================================\n",
            "dense_55 (Dense)             (None, 1000)              3000      \n",
            "_________________________________________________________________\n",
            "dense_56 (Dense)             (None, 1000)              1001000   \n",
            "_________________________________________________________________\n",
            "dense_57 (Dense)             (None, 1000)              1001000   \n",
            "_________________________________________________________________\n",
            "dense_58 (Dense)             (None, 1)                 1001      \n",
            "=================================================================\n",
            "Total params: 2,006,001\n",
            "Trainable params: 2,006,001\n",
            "Non-trainable params: 0\n",
            "_________________________________________________________________\n"
          ],
          "name": "stdout"
        }
      ]
    },
    {
      "metadata": {
        "id": "I8Q61IJr1s-t",
        "colab_type": "text"
      },
      "cell_type": "markdown",
      "source": [
        "### Train the model"
      ]
    },
    {
      "metadata": {
        "id": "3jJ2hMBZ1sqe",
        "colab_type": "code",
        "colab": {}
      },
      "cell_type": "code",
      "source": [
        "history = model.fit(train_data, train_labels, epochs=10000, verbose=0)"
      ],
      "execution_count": 0,
      "outputs": []
    },
    {
      "metadata": {
        "id": "cFAIL9KVTnCK",
        "colab_type": "text"
      },
      "cell_type": "markdown",
      "source": [
        "### Visualize the data"
      ]
    },
    {
      "metadata": {
        "id": "DkXu0yyOTmfN",
        "colab_type": "code",
        "outputId": "3439ae92-fa19-45b6-a9b9-10cbf5180e04",
        "colab": {
          "base_uri": "https://localhost:8080/",
          "height": 51
        }
      },
      "cell_type": "code",
      "source": [
        "the_result = model.evaluate(train_data, train_labels)\n",
        "print(the_result)\n",
        "# plt.plot(range(1, len(model_loss)+1), model_loss)\n",
        "# plt.xlabel('Epochs')\n",
        "# plt.ylabel('Loss')\n",
        "# plt.show()"
      ],
      "execution_count": 160,
      "outputs": [
        {
          "output_type": "stream",
          "text": [
            "\r24/24 [==============================] - 0s 551us/step\n",
            "2.980080751058267e-07\n"
          ],
          "name": "stdout"
        }
      ]
    },
    {
      "metadata": {
        "id": "tWrSY4WIBSl7",
        "colab_type": "code",
        "colab": {
          "base_uri": "https://localhost:8080/",
          "height": 365
        },
        "outputId": "4613e64f-10ed-4ce6-edf5-46afa925551c"
      },
      "cell_type": "code",
      "source": [
        "actual = asNump\n",
        "predictions = model.predict(train_data)\n",
        "\n",
        "plt.plot(range(1, 25), actual, 'b', label='Actual')\n",
        "plt.plot(range(1, 25), predictions, 'r', label='Predicted')\n",
        "plt.xlabel('hour')\n",
        "plt.ylabel('KW')\n",
        "plt.legend()\n",
        "plt.show()"
      ],
      "execution_count": 162,
      "outputs": [
        {
          "output_type": "display_data",
          "data": {
            "image/png": "[encoded data removed]",
            "text/plain": [
              "<Figure size 576x396 with 1 Axes>"
            ]
          },
          "metadata": {
            "tags": []
          }
        }
      ]
    },
    {
      "metadata": {
        "id": "IK2iPAw7Z5RI",
        "colab_type": "text"
      },
      "cell_type": "markdown",
      "source": [
        "### Test the model and export"
      ]
    },
    {
      "metadata": {
        "id": "nLKl77sIsF1X",
        "colab_type": "code",
        "colab": {}
      },
      "cell_type": "code",
      "source": [
        "model.save('my_model.h5')"
      ],
      "execution_count": 0,
      "outputs": []
    }
  ]
}